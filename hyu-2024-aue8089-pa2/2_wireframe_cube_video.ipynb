{
 "cells": [
  {
   "cell_type": "code",
   "execution_count": 1,
   "metadata": {},
   "outputs": [],
   "source": [
    "import psutil\n",
    "cpus = '20-23'\n",
    "cores = [int(core) for core in cpus.split('-')]\n",
    "p = psutil.Process()\n",
    "p.cpu_affinity(list(range(cores[0], cores[1]+1)))"
   ]
  },
  {
   "cell_type": "code",
   "execution_count": 2,
   "metadata": {},
   "outputs": [],
   "source": [
    "import cv2\n",
    "import numpy as np\n",
    "\n",
    "from pose_vector_to_transformation_matrix import pose_vector_to_transformation_matrix\n",
    "from project_points import project_points\n",
    "from undistort_image import undistort_image"
   ]
  },
  {
   "cell_type": "code",
   "execution_count": 3,
   "metadata": {},
   "outputs": [],
   "source": [
    "# load camera poses\n",
    "pose_vectors = np.loadtxt('data/poses.txt')\n",
    "\n",
    "# load camera intrinsics\n",
    "K = np.loadtxt('data/K.txt')  # calibration matrix[3x3]\n",
    "D = np.loadtxt('data/D.txt')  # distortion coefficients[2x1]"
   ]
  },
  {
   "cell_type": "code",
   "execution_count": 4,
   "metadata": {},
   "outputs": [],
   "source": [
    "# calculate the cube points to then draw the image\n",
    "offset_x = 0.04 * 3\n",
    "offset_y = 0.04\n",
    "s = 2 * 0.04\n",
    "\n",
    "X, Y, Z = np.meshgrid(np.arange(2), np.arange(2), np.arange(-1, 1))\n",
    "p_W_cube = np.stack([\n",
    "    offset_x + X.flatten() * s,\n",
    "    offset_y + Y.flatten() * s,\n",
    "    Z.flatten() * s,\n",
    "    np.ones([8])], axis=-1)\n",
    "p_W_cube = p_W_cube.reshape(8, 1, 4)\n",
    "\n",
    "vertex_id = (\n",
    "    0, 2, 6, 4, # base layer of the cube\n",
    "    1, 3, 7, 5, # top layer of the cube\n",
    ")\n",
    "\n",
    "lines_id = (\n",
    "    [0, 1], [2, 3], [4, 5], [6, 7], # vertical lines\n",
    "    [0, 2], [2, 6], [6, 4], [4, 0], # base lines\n",
    "    [1, 3], [3, 7], [7, 5], [5, 1], # top lines\n",
    ")\n",
    "\n",
    "# set points in world coordinate\n",
    "num_pts_per_line = 40\n",
    "weights = np.linspace(0, 1, num_pts_per_line)[..., None]\n",
    "p_W_cube_all = np.zeros((num_pts_per_line * 12, 4))\n",
    "for ii, line in enumerate(lines_id):\n",
    "    indices = slice(ii * num_pts_per_line, (ii + 1) * num_pts_per_line)\n",
    "    p_W_cube_all[indices] = (weights * p_W_cube[line[0]] + (1 - weights) * p_W_cube[line[1]]).reshape(-1, 4)\n"
   ]
  },
  {
   "cell_type": "code",
   "execution_count": 5,
   "metadata": {},
   "outputs": [
    {
     "data": {
      "application/vnd.jupyter.widget-view+json": {
       "model_id": "cffb17adc33641cab879de50d9b5f5f8",
       "version_major": 2,
       "version_minor": 0
      },
      "text/plain": [
       "  0%|          | 0/120 [00:00<?, ?it/s]"
      ]
     },
     "metadata": {},
     "output_type": "display_data"
    },
    {
     "ename": "KeyboardInterrupt",
     "evalue": "",
     "output_type": "error",
     "traceback": [
      "\u001b[0;31m---------------------------------------------------------------------------\u001b[0m",
      "\u001b[0;31mKeyboardInterrupt\u001b[0m                         Traceback (most recent call last)",
      "Cell \u001b[0;32mIn[5], line 11\u001b[0m\n\u001b[1;32m      8\u001b[0m img \u001b[38;5;241m=\u001b[39m cv2\u001b[38;5;241m.\u001b[39mimread(\u001b[38;5;124m'\u001b[39m\u001b[38;5;124mdata/images/img_\u001b[39m\u001b[38;5;132;01m{0:04d}\u001b[39;00m\u001b[38;5;124m.jpg\u001b[39m\u001b[38;5;124m'\u001b[39m\u001b[38;5;241m.\u001b[39mformat(img_index))\n\u001b[1;32m     10\u001b[0m \u001b[38;5;66;03m# undistort image with bilinear interpolation\u001b[39;00m\n\u001b[0;32m---> 11\u001b[0m img_undistorted \u001b[38;5;241m=\u001b[39m \u001b[43mundistort_image\u001b[49m\u001b[43m(\u001b[49m\u001b[43mimg\u001b[49m\u001b[43m,\u001b[49m\u001b[43m \u001b[49m\u001b[43mK\u001b[49m\u001b[43m,\u001b[49m\u001b[43m \u001b[49m\u001b[43mD\u001b[49m\u001b[43m,\u001b[49m\u001b[43m \u001b[49m\u001b[43mbilinear_interpolation\u001b[49m\u001b[38;5;241;43m=\u001b[39;49m\u001b[38;5;28;43;01mTrue\u001b[39;49;00m\u001b[43m)\u001b[49m\n\u001b[1;32m     13\u001b[0m \u001b[38;5;66;03m# project the corners on the image\u001b[39;00m\n\u001b[1;32m     14\u001b[0m \u001b[38;5;66;03m# compute the 4x4 homogeneous transformation matrix that maps points\u001b[39;00m\n\u001b[1;32m     15\u001b[0m \u001b[38;5;66;03m# from the world to the camera coordinate frame\u001b[39;00m\n\u001b[1;32m     17\u001b[0m T_C_W \u001b[38;5;241m=\u001b[39m pose_vector_to_transformation_matrix(pose_vectors[ii, :])\n",
      "File \u001b[0;32m~/ML/3D_CV_PA/hyu-2024-aue8089-pa2/undistort_image.py:28\u001b[0m, in \u001b[0;36mundistort_image\u001b[0;34m(img, K, D, bilinear_interpolation)\u001b[0m\n\u001b[1;32m     24\u001b[0m \u001b[38;5;28;01mfor\u001b[39;00m x \u001b[38;5;129;01min\u001b[39;00m \u001b[38;5;28mrange\u001b[39m(width):\n\u001b[1;32m     25\u001b[0m     \u001b[38;5;28;01mfor\u001b[39;00m y \u001b[38;5;129;01min\u001b[39;00m \u001b[38;5;28mrange\u001b[39m(height):\n\u001b[1;32m     26\u001b[0m \n\u001b[1;32m     27\u001b[0m         \u001b[38;5;66;03m# apply distortion\u001b[39;00m\n\u001b[0;32m---> 28\u001b[0m         x_d \u001b[38;5;241m=\u001b[39m \u001b[43mdistort_points\u001b[49m\u001b[43m(\u001b[49m\u001b[43mnp\u001b[49m\u001b[38;5;241;43m.\u001b[39;49m\u001b[43marray\u001b[49m\u001b[43m(\u001b[49m\u001b[43m[\u001b[49m\u001b[43m[\u001b[49m\u001b[43mx\u001b[49m\u001b[43m,\u001b[49m\u001b[43m \u001b[49m\u001b[43my\u001b[49m\u001b[43m]\u001b[49m\u001b[43m]\u001b[49m\u001b[43m)\u001b[49m\u001b[43m,\u001b[49m\u001b[43m \u001b[49m\u001b[43mD\u001b[49m\u001b[43m,\u001b[49m\u001b[43m \u001b[49m\u001b[43mK\u001b[49m\u001b[43m)\u001b[49m\n\u001b[1;32m     29\u001b[0m         u, v \u001b[38;5;241m=\u001b[39m x_d[\u001b[38;5;241m0\u001b[39m, :]\n\u001b[1;32m     31\u001b[0m         \u001b[38;5;66;03m# bilinear interpolation\u001b[39;00m\n",
      "File \u001b[0;32m~/ML/3D_CV_PA/hyu-2024-aue8089-pa2/distort_points.py:26\u001b[0m, in \u001b[0;36mdistort_points\u001b[0;34m(x, D, K)\u001b[0m\n\u001b[1;32m     24\u001b[0m r2 \u001b[38;5;241m=\u001b[39m xp\u001b[38;5;241m*\u001b[39m\u001b[38;5;241m*\u001b[39m\u001b[38;5;241m2\u001b[39m \u001b[38;5;241m+\u001b[39m yp\u001b[38;5;241m*\u001b[39m\u001b[38;5;241m*\u001b[39m\u001b[38;5;241m2\u001b[39m\n\u001b[1;32m     25\u001b[0m xpp \u001b[38;5;241m=\u001b[39m u0 \u001b[38;5;241m+\u001b[39m xp \u001b[38;5;241m*\u001b[39m (\u001b[38;5;241m1\u001b[39m \u001b[38;5;241m+\u001b[39m k1\u001b[38;5;241m*\u001b[39mr2 \u001b[38;5;241m+\u001b[39m k2\u001b[38;5;241m*\u001b[39mr2\u001b[38;5;241m*\u001b[39m\u001b[38;5;241m*\u001b[39m\u001b[38;5;241m2\u001b[39m)\n\u001b[0;32m---> 26\u001b[0m ypp \u001b[38;5;241m=\u001b[39m v0 \u001b[38;5;241m+\u001b[39m yp \u001b[38;5;241m*\u001b[39m (\u001b[38;5;241m1\u001b[39m \u001b[38;5;241m+\u001b[39m k1\u001b[38;5;241m*\u001b[39mr2 \u001b[38;5;241m+\u001b[39m \u001b[43mk2\u001b[49m\u001b[38;5;241;43m*\u001b[39;49m\u001b[43mr2\u001b[49m\u001b[38;5;241;43m*\u001b[39;49m\u001b[38;5;241;43m*\u001b[39;49m\u001b[38;5;241;43m2\u001b[39;49m)\n\u001b[1;32m     28\u001b[0m x_d \u001b[38;5;241m=\u001b[39m np\u001b[38;5;241m.\u001b[39mstack([xpp, ypp], axis\u001b[38;5;241m=\u001b[39m\u001b[38;5;241m-\u001b[39m\u001b[38;5;241m1\u001b[39m)\n\u001b[1;32m     30\u001b[0m \u001b[38;5;28;01mreturn\u001b[39;00m x_d\n",
      "\u001b[0;31mKeyboardInterrupt\u001b[0m: "
     ]
    }
   ],
   "source": [
    "from tqdm.notebook import tqdm\n",
    "from PIL import Image\n",
    "\n",
    "images = []\n",
    "\n",
    "for ii in tqdm(range(120)):\n",
    "    img_index = ii + 1\n",
    "    img = cv2.imread('data/images/img_{0:04d}.jpg'.format(img_index))\n",
    "\n",
    "    # undistort image with bilinear interpolation\n",
    "    img_undistorted = undistort_image(img, K, D, bilinear_interpolation=True)\n",
    "\n",
    "    # project the corners on the image\n",
    "    # compute the 4x4 homogeneous transformation matrix that maps points\n",
    "    # from the world to the camera coordinate frame\n",
    "\n",
    "    T_C_W = pose_vector_to_transformation_matrix(pose_vectors[ii, :])\n",
    "\n",
    "    # project on image coordinate\n",
    "    p_C_cube = np.matmul(T_C_W[None, :, :], p_W_cube_all[:, :, None]).squeeze(-1)\n",
    "    p_C_cube = p_C_cube[:, :3]\n",
    "\n",
    "    cube_pts = project_points(p_C_cube, K, np.zeros([4, 1]))\n",
    "    cube_pts_int = cube_pts.astype(int)\n",
    "    cube_pts_int = np.unique(cube_pts_int, axis=0)\n",
    "\n",
    "\n",
    "    # draw points\n",
    "    for x, y in cube_pts_int:\n",
    "        for iy in range(-1, 2):\n",
    "            for ix in range(-1, 2):\n",
    "                img_undistorted[y+iy, x+ix] = (0, 255, 0)\n",
    "\n",
    "    images.append(img_undistorted)\n",
    "\n",
    "Image.fromarray(images[-1])"
   ]
  },
  {
   "cell_type": "code",
   "execution_count": 6,
   "metadata": {},
   "outputs": [
    {
     "data": {
      "application/vnd.jupyter.widget-view+json": {
       "model_id": "ba33439507964298825989a9ade6a530",
       "version_major": 2,
       "version_minor": 0
      },
      "text/plain": [
       "  0%|          | 0/120 [00:00<?, ?it/s]"
      ]
     },
     "metadata": {},
     "output_type": "display_data"
    }
   ],
   "source": [
    "import warnings\n",
    "\n",
    "# Save to video file\n",
    "fps = 20\n",
    "height, width, _ = images[10].shape\n",
    "fourcc = cv2.VideoWriter_fourcc(*'MJPG')\n",
    "video_filename = 'ar_wireframe_cube.avi'\n",
    "video_writer = cv2.VideoWriter(video_filename, fourcc, fps, (width, height))\n",
    "\n",
    "with warnings.catch_warnings(record=True):\n",
    "    for image in tqdm(images):\n",
    "        video_writer.write(image)\n",
    "\n",
    "video_writer.release()"
   ]
  },
  {
   "cell_type": "code",
   "execution_count": 7,
   "metadata": {},
   "outputs": [],
   "source": [
    "from matplotlib import animation\n",
    "from IPython.display import display, HTML\n",
    "\n",
    "import matplotlib.pyplot as plt\n",
    "\n",
    "def plot_sequence_images(image_array):\n",
    "    ''' Display images sequence as an animation in jupyter notebook\n",
    "\n",
    "    Args:\n",
    "        image_array(numpy.ndarray): image_array.shape equal to (num_images, height, width, num_channels)\n",
    "    '''\n",
    "    dpi = 72.0\n",
    "    xpixels, ypixels = image_array[0].shape[:2]\n",
    "    fig = plt.figure(figsize=(ypixels/dpi, xpixels/dpi), dpi=dpi)\n",
    "    im = plt.figimage(image_array[0])\n",
    "\n",
    "    def animate(i):\n",
    "        im.set_array(image_array[i])\n",
    "        return (im,)\n",
    "\n",
    "    anim = animation.FuncAnimation(fig, animate, frames=len(image_array), interval=33, repeat_delay=1, repeat=True)\n",
    "    display(HTML(anim.to_html5_video()))"
   ]
  },
  {
   "cell_type": "code",
   "execution_count": 8,
   "metadata": {},
   "outputs": [
    {
     "ename": "RuntimeError",
     "evalue": "Requested MovieWriter (ffmpeg) not available",
     "output_type": "error",
     "traceback": [
      "\u001b[0;31m---------------------------------------------------------------------------\u001b[0m",
      "\u001b[0;31mRuntimeError\u001b[0m                              Traceback (most recent call last)",
      "Cell \u001b[0;32mIn[8], line 1\u001b[0m\n\u001b[0;32m----> 1\u001b[0m \u001b[43mplot_sequence_images\u001b[49m\u001b[43m(\u001b[49m\u001b[43mimages\u001b[49m\u001b[43m)\u001b[49m\n",
      "Cell \u001b[0;32mIn[7], line 22\u001b[0m, in \u001b[0;36mplot_sequence_images\u001b[0;34m(image_array)\u001b[0m\n\u001b[1;32m     19\u001b[0m     \u001b[38;5;28;01mreturn\u001b[39;00m (im,)\n\u001b[1;32m     21\u001b[0m anim \u001b[38;5;241m=\u001b[39m animation\u001b[38;5;241m.\u001b[39mFuncAnimation(fig, animate, frames\u001b[38;5;241m=\u001b[39m\u001b[38;5;28mlen\u001b[39m(image_array), interval\u001b[38;5;241m=\u001b[39m\u001b[38;5;241m33\u001b[39m, repeat_delay\u001b[38;5;241m=\u001b[39m\u001b[38;5;241m1\u001b[39m, repeat\u001b[38;5;241m=\u001b[39m\u001b[38;5;28;01mTrue\u001b[39;00m)\n\u001b[0;32m---> 22\u001b[0m display(HTML(\u001b[43manim\u001b[49m\u001b[38;5;241;43m.\u001b[39;49m\u001b[43mto_html5_video\u001b[49m\u001b[43m(\u001b[49m\u001b[43m)\u001b[49m))\n",
      "File \u001b[0;32m~/anaconda3/envs/aue8089pa1/lib/python3.9/site-packages/matplotlib/animation.py:1265\u001b[0m, in \u001b[0;36mAnimation.to_html5_video\u001b[0;34m(self, embed_limit)\u001b[0m\n\u001b[1;32m   1262\u001b[0m path \u001b[38;5;241m=\u001b[39m Path(tmpdir, \u001b[38;5;124m\"\u001b[39m\u001b[38;5;124mtemp.m4v\u001b[39m\u001b[38;5;124m\"\u001b[39m)\n\u001b[1;32m   1263\u001b[0m \u001b[38;5;66;03m# We create a writer manually so that we can get the\u001b[39;00m\n\u001b[1;32m   1264\u001b[0m \u001b[38;5;66;03m# appropriate size for the tag\u001b[39;00m\n\u001b[0;32m-> 1265\u001b[0m Writer \u001b[38;5;241m=\u001b[39m \u001b[43mwriters\u001b[49m\u001b[43m[\u001b[49m\u001b[43mmpl\u001b[49m\u001b[38;5;241;43m.\u001b[39;49m\u001b[43mrcParams\u001b[49m\u001b[43m[\u001b[49m\u001b[38;5;124;43m'\u001b[39;49m\u001b[38;5;124;43manimation.writer\u001b[39;49m\u001b[38;5;124;43m'\u001b[39;49m\u001b[43m]\u001b[49m\u001b[43m]\u001b[49m\n\u001b[1;32m   1266\u001b[0m writer \u001b[38;5;241m=\u001b[39m Writer(codec\u001b[38;5;241m=\u001b[39m\u001b[38;5;124m'\u001b[39m\u001b[38;5;124mh264\u001b[39m\u001b[38;5;124m'\u001b[39m,\n\u001b[1;32m   1267\u001b[0m                 bitrate\u001b[38;5;241m=\u001b[39mmpl\u001b[38;5;241m.\u001b[39mrcParams[\u001b[38;5;124m'\u001b[39m\u001b[38;5;124manimation.bitrate\u001b[39m\u001b[38;5;124m'\u001b[39m],\n\u001b[1;32m   1268\u001b[0m                 fps\u001b[38;5;241m=\u001b[39m\u001b[38;5;241m1000.\u001b[39m \u001b[38;5;241m/\u001b[39m \u001b[38;5;28mself\u001b[39m\u001b[38;5;241m.\u001b[39m_interval)\n\u001b[1;32m   1269\u001b[0m \u001b[38;5;28mself\u001b[39m\u001b[38;5;241m.\u001b[39msave(\u001b[38;5;28mstr\u001b[39m(path), writer\u001b[38;5;241m=\u001b[39mwriter)\n",
      "File \u001b[0;32m~/anaconda3/envs/aue8089pa1/lib/python3.9/site-packages/matplotlib/animation.py:128\u001b[0m, in \u001b[0;36mMovieWriterRegistry.__getitem__\u001b[0;34m(self, name)\u001b[0m\n\u001b[1;32m    126\u001b[0m \u001b[38;5;28;01mif\u001b[39;00m \u001b[38;5;28mself\u001b[39m\u001b[38;5;241m.\u001b[39mis_available(name):\n\u001b[1;32m    127\u001b[0m     \u001b[38;5;28;01mreturn\u001b[39;00m \u001b[38;5;28mself\u001b[39m\u001b[38;5;241m.\u001b[39m_registered[name]\n\u001b[0;32m--> 128\u001b[0m \u001b[38;5;28;01mraise\u001b[39;00m \u001b[38;5;167;01mRuntimeError\u001b[39;00m(\u001b[38;5;124mf\u001b[39m\u001b[38;5;124m\"\u001b[39m\u001b[38;5;124mRequested MovieWriter (\u001b[39m\u001b[38;5;132;01m{\u001b[39;00mname\u001b[38;5;132;01m}\u001b[39;00m\u001b[38;5;124m) not available\u001b[39m\u001b[38;5;124m\"\u001b[39m)\n",
      "\u001b[0;31mRuntimeError\u001b[0m: Requested MovieWriter (ffmpeg) not available"
     ]
    },
    {
     "data": {
      "text/plain": [
       "<Figure size 752x480 with 0 Axes>"
      ]
     },
     "metadata": {},
     "output_type": "display_data"
    }
   ],
   "source": [
    "plot_sequence_images(images)"
   ]
  },
  {
   "cell_type": "code",
   "execution_count": null,
   "metadata": {},
   "outputs": [],
   "source": []
  }
 ],
 "metadata": {
  "kernelspec": {
   "display_name": "aue8089pa1",
   "language": "python",
   "name": "python3"
  },
  "language_info": {
   "codemirror_mode": {
    "name": "ipython",
    "version": 3
   },
   "file_extension": ".py",
   "mimetype": "text/x-python",
   "name": "python",
   "nbconvert_exporter": "python",
   "pygments_lexer": "ipython3",
   "version": "3.9.12"
  }
 },
 "nbformat": 4,
 "nbformat_minor": 2
}
